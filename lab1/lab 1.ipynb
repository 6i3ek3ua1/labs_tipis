{
 "cells": [
  {
   "metadata": {},
   "cell_type": "markdown",
   "source": "1) Использование функции map()",
   "id": "e3467d1801deb58c"
  },
  {
   "metadata": {},
   "cell_type": "code",
   "source": [
    "numbers = [1, 2, 3, 4, 5]\n",
    "squared_numbers = list(map(lambda x: x**2, numbers))\n",
    "print(\"Квадраты чисел:\", squared_numbers)"
   ],
   "id": "bc4d3f39a7990282",
   "outputs": [],
   "execution_count": null
  },
  {
   "metadata": {},
   "cell_type": "markdown",
   "source": "2) Использование lambda",
   "id": "bb669926c2dbb830"
  },
  {
   "metadata": {},
   "cell_type": "code",
   "source": [
    "tuples = [(1, 3), (4, 1), (2, 5), (3, 2)]\n",
    "\n",
    "sorted_tuples = sorted(tuples, key=lambda x: x[1])\n",
    "\n",
    "print(\"Отсортированные кортежи:\", sorted_tuples)"
   ],
   "id": "e33fbc36d4a2ec1a",
   "outputs": [],
   "execution_count": null
  },
  {
   "metadata": {},
   "cell_type": "markdown",
   "source": "3) Использование классов и объектов",
   "id": "af2aa905b2c1da50"
  },
  {
   "metadata": {},
   "cell_type": "code",
   "source": [
    "import math\n",
    "\n",
    "\n",
    "class Figure:\n",
    "    def __init__(self, name):\n",
    "        self.name = name\n",
    "\n",
    "    def area(self):\n",
    "        raise NotImplementedError(\"Этот метод должен быть переопределен в подклассе\")\n",
    "\n",
    "\n",
    "class Circle(Figure):\n",
    "    def __init__(self, radius):\n",
    "        super().__init__(\"Круг\")\n",
    "        self.radius = radius\n",
    "\n",
    "    def area(self):\n",
    "        return math.pi * self.radius**2\n",
    "\n",
    "\n",
    "class Rectangle(Figure):\n",
    "    def __init__(self, width, height):\n",
    "        super().__init__(\"Прямоугольник\")\n",
    "        self.width = width\n",
    "        self.height = height\n",
    "\n",
    "    def area(self):\n",
    "        return self.width * self.height\n",
    "\n",
    "\n",
    "class RightTriangle(Figure):\n",
    "    def __init__(self, base, height):\n",
    "        super().__init__(\"Прямоугольный треугольник\")\n",
    "        self.base = base\n",
    "        self.height = height\n",
    "\n",
    "    def area(self):\n",
    "        return 0.5 * self.base * self.height\n",
    "\n",
    "\n",
    "circle = Circle(5)\n",
    "rectangle = Rectangle(4, 6)\n",
    "triangle = RightTriangle(3, 7)\n",
    "\n",
    "figures = [circle, rectangle, triangle]\n",
    "for figure in figures:\n",
    "    print(f\"{figure.name}, площадь: {figure.area():.2f}\")"
   ],
   "id": "f6056fd42ed20335",
   "outputs": [],
   "execution_count": null
  },
  {
   "metadata": {},
   "cell_type": "markdown",
   "source": "4) Работа с .csv",
   "id": "58a1f4b8c73f2468"
  },
  {
   "metadata": {},
   "cell_type": "code",
   "source": [
    "import csv\n",
    "\n",
    "\n",
    "data = [\n",
    "    (\"Имя\", \"Возраст\"),\n",
    "    (\"Алексей\", 25),\n",
    "    (\"Мария\", 30),\n",
    "    (\"Дмитрий\", 22),\n",
    "    (\"Екатерина\", 27),\n",
    "    (\"Иван\", 35),\n",
    "]\n",
    "\n",
    "file_name = \"people.csv\"\n",
    "with open(file_name, mode=\"w\", newline=\"\", encoding=\"utf-8\") as file:\n",
    "    writer = csv.writer(file)\n",
    "    writer.writerows(data)\n",
    "\n",
    "\n",
    "with open(file_name, mode=\"r\", encoding=\"utf-8\") as file:\n",
    "    reader = csv.reader(file)\n",
    "    for row in reader:\n",
    "        print(row)\n"
   ],
   "id": "c6ed561effe03205",
   "outputs": [],
   "execution_count": null
  },
  {
   "metadata": {},
   "cell_type": "markdown",
   "source": "5) Проверка анаграммы",
   "id": "9eb02ae5851e0c8d"
  },
  {
   "metadata": {},
   "cell_type": "code",
   "source": [
    "def is_anagram(str1, str2):\n",
    "    str1 = str1.replace(\" \", \"\").lower()\n",
    "    str2 = str2.replace(\" \", \"\").lower()\n",
    "    return sorted(str1) == sorted(str2)\n",
    "\n",
    "print(is_anagram(\"слово\", \"оволс\"))  \n",
    "print(is_anagram(\"кот\", \"ток\"))      \n",
    "print(is_anagram(\"кот\", \"пёс\"))      "
   ],
   "id": "7d78e561e3e7deed",
   "outputs": [],
   "execution_count": null
  },
  {
   "metadata": {},
   "cell_type": "markdown",
   "source": "6) Счётчик вызова функции декоратором",
   "id": "723b884c744df23"
  },
  {
   "metadata": {},
   "cell_type": "code",
   "source": [
    "def count_calls(func):\n",
    "    def wrapper(*args, **kwargs):\n",
    "        wrapper.call_count += 1 \n",
    "        print(f\"Функция {func.__name__} вызвана {wrapper.call_count} раз(а)\")\n",
    "        return func(*args, **kwargs)\n",
    "    \n",
    "    wrapper.call_count = 0 \n",
    "    return wrapper\n",
    "\n",
    "# Пример использования\n",
    "@count_calls\n",
    "def say_hello():\n",
    "    print(\"Привет!\")\n",
    "\n",
    "@count_calls\n",
    "def add(a, b):\n",
    "    return a + b\n",
    "\n",
    "# Тестируем\n",
    "say_hello()\n",
    "say_hello()\n",
    "\n",
    "print(add(3, 5))\n",
    "print(add(10, 20))\n",
    "say_hello()\n",
    "print(add(10, 20))"
   ],
   "id": "e32a75f2e28e17c8",
   "outputs": [],
   "execution_count": null
  },
  {
   "metadata": {},
   "cell_type": "markdown",
   "source": "7) Игра крестики нолики (представлена в файле)",
   "id": "ff54c1f7c0ec9a35"
  },
  {
   "metadata": {},
   "cell_type": "code",
   "source": "",
   "id": "4edba62491534d17",
   "outputs": [],
   "execution_count": null
  }
 ],
 "metadata": {
  "kernelspec": {
   "display_name": "Python 3",
   "language": "python",
   "name": "python3"
  },
  "language_info": {
   "codemirror_mode": {
    "name": "ipython",
    "version": 2
   },
   "file_extension": ".py",
   "mimetype": "text/x-python",
   "name": "python",
   "nbconvert_exporter": "python",
   "pygments_lexer": "ipython2",
   "version": "2.7.6"
  }
 },
 "nbformat": 4,
 "nbformat_minor": 5
}
