{
 "cells": [
  {
   "cell_type": "code",
   "execution_count": 1,
   "id": "3a31e4e1fce31517",
   "metadata": {
    "ExecuteTime": {
     "end_time": "2024-12-07T11:50:34.270056Z",
     "start_time": "2024-12-07T11:50:34.264072Z"
    },
    "collapsed": false,
    "jupyter": {
     "outputs_hidden": false
    }
   },
   "outputs": [],
   "source": [
    "import base64\n",
    "\n",
    "text_to_code = \"The Zen of Python, by Tim Peters.\\nBeautiful is better than ugly.\\nExplicit is better than implicit.\\nSimple is better than complex.\\nComplex is better than complicated.\\nFlat is better than nested.\\nSparse is better than dense.\\nReadability counts.\\nSpecial cases aren't special enough to break the rules.\\nAlthough practicality beats purity.\\nErrors should never pass silently.\\nUnless explicitly silenced.\\nIn the face of ambiguity, refuse the temptation to guess.\\nThere should be one and preferably only one obvious way to do it.\\nAlthough that way may not be obvious at first unless you're Dutch.\\nNow is better than never.\\nAlthough never is often better than *right* now.\\nIf the implementation is hard to explain, it's a bad idea.\\nIf the implementation is easy to explain, it may be a good idea.\\nNamespaces are one honking great idea let's do more of those!*\""
   ]
  },
  {
   "cell_type": "code",
   "execution_count": 2,
   "id": "a6dc87b30105f82a",
   "metadata": {
    "ExecuteTime": {
     "end_time": "2024-12-07T11:50:34.709175Z",
     "start_time": "2024-12-07T11:50:34.271055Z"
    },
    "collapsed": false,
    "jupyter": {
     "outputs_hidden": false
    }
   },
   "outputs": [
    {
     "name": "stdout",
     "output_type": "stream",
     "text": [
      "Frequencies: {'T': Fraction(3, 850), 'h': Fraction(31, 850), 'e': Fraction(9, 85), ' ': Fraction(123, 850), 'Z': Fraction(1, 850), 'n': Fraction(4, 85), 'o': Fraction(43, 850), 'f': Fraction(11, 850), 'P': Fraction(1, 425), 'y': Fraction(1, 50), 't': Fraction(38, 425), ',': Fraction(2, 425), 'b': Fraction(2, 85), 'i': Fraction(1, 17), 'm': Fraction(8, 425), 'r': Fraction(16, 425), 's': Fraction(43, 850), '.': Fraction(19, 850), '\\n': Fraction(19, 850), 'B': Fraction(1, 850), 'a': Fraction(1, 17), 'u': Fraction(2, 85), 'l': Fraction(33, 850), 'g': Fraction(11, 850), 'E': Fraction(1, 425), 'x': Fraction(3, 425), 'p': Fraction(2, 85), 'c': Fraction(8, 425), 'S': Fraction(3, 850), 'C': Fraction(1, 850), 'd': Fraction(8, 425), 'F': Fraction(1, 850), 'R': Fraction(1, 850), \"'\": Fraction(2, 425), 'k': Fraction(1, 425), 'A': Fraction(3, 850), 'v': Fraction(1, 170), 'U': Fraction(1, 850), 'I': Fraction(3, 850), 'w': Fraction(2, 425), 'D': Fraction(1, 850), 'N': Fraction(1, 425), '*': Fraction(3, 850), '!': Fraction(1, 850)}\n",
      "Encoded: 68028311052393372263806182651523647105650635114039146690076485595023220557927162011854928164915877223173853885703213739436455268024940054921936005902808220888468015047800675851890109974687955692513258145549495182540059205593958381618465506697447992534900648329532725619994765521708950496989595979042675456385992808220103227562228262628663842201245749980417239443804579268418821207285513815836571707884956593409756952027199698362520541683037482171983672757617899846389472747971262608233152332837846241422761973995274336279805991441294083321132706557248417104004288641756784765089093898742018532307526315600321345766060627247690948981541835581389502423538410152025154835664578052165972181030857074988501039434087245697453469514627675493138660315146317261065613533282571270893448097353621193135928516047308938269500910508730030392799999798386724141200143973349602926144020589263792416026715795090201893771579505420270133353069756786039049530089815197684301114552472987144738790975918279146852152422256391051296355087587294493825739694883821165381933407063089269311208932230290192473759354653404585220768876650208503047044349766168825633115657507799719198559439755713816169861928876643485562710273533106983424197259804090700447643357920477952202012009564232992855348252858501747801437666517996483259719352567137542651572200716597586663727019728161433834688629626015061890262177737364615782189203735139701097096972439602745527355380854150356644220498421855947121396495846722695221025864288178073161272607123137804451589357946471967377862043772123295691843438655911853604440623496649708711607094183089337692568967476667707053142597157672560880918155935068405856371863593299971995106403124689864799290256388138282391059166887239172478595595857673493004521915978281290710239722993581693091256669623910548936451618882465581536061418056392132727483611344555792839034373917157942580896843499166840726714495941952231239456291512433463769960304921/3373239148357228256040759274157238396853659843078203621161482742283903826410472981488998858818538446927458221609017962297527250586761509765053161744419764791678971566283113821672465722721431004225239679702158710011806962118217628171434972870385640352526124583492517038149951047140885432796154436090478112548693339330086564550037559304055726842634103137175154418243062433874936595553068317657729199620006807076829074191054221418191034209985822127620826118409296065799857602256301045515208635280803924394028382293935481455850044023661910158135477775190975515140247482409838524454823377797065045995697819430047851894191942705516944244950457640666469836466172085457845417681940771852008532022572093782385105649648602474041744453999531023180869968165312866869759340559902081608419602050694925598206721326394437375702729444704904742688054039985113567185607636996435867270001478483739745912604430462935051452956088665211438821750956845513448995667154083435197073851083939420030431542192762419632677447138718520510914889275592254294260092258941646632008871583657288719749809409948393787023056754109351771287676949082113229326386877743016812542416438554920491295440576294850914779191209668908626909147346113757171791593186509093603352796269595628046029747610233510971294691389180922362962808788593744458949926158568709890203855351796275716873827685862575748657174117654554875963984902040988086699756279845389577632953569266365246899574430187026776989773311982180468786218006285391292725076418576745556884346947440430994845045639892153328768975059960644041862009882839563372748415285278480745272252605316100898133566291910333564796863960202993013331936238457726953869830109853947258364434048072028604593785257416792748539289547149477385808156662253534750331546271556982716310548282689189516451733221559011662284063610106569705635424916213067391412131617339390011017354882484854750377698779028024070368932396668526507710339501500129699707031250000000\n",
      "Decoded: The Zen of Python, by Tim Peters.\n",
      "Beautiful is better than ugly.\n",
      "Explicit is better than implicit.\n",
      "Simple is better than complex.\n",
      "Complex is better than complicated.\n",
      "Flat is better than nested.\n",
      "Sparse is better than dense.\n",
      "Readability counts.\n",
      "Special cases aren't special enough to break the rules.\n",
      "Although practicality beats purity.\n",
      "Errors should never pass silently.\n",
      "Unless explicitly silenced.\n",
      "In the face of ambiguity, refuse the temptation to guess.\n",
      "There should be one and preferably only one obvious way to do it.\n",
      "Although that way may not be obvious at first unless you're Dutch.\n",
      "Now is better than never.\n",
      "Although never is often better than \n"
     ]
    }
   ],
   "source": [
    "from fractions import Fraction\n",
    "\n",
    "class SourceStates:\n",
    "    @staticmethod\n",
    "    def create_dict(message: str) -> dict:\n",
    "        states = {}\n",
    "        for char in message:\n",
    "            if char not in states:\n",
    "                states[char] = 1\n",
    "            else:\n",
    "                states[char] += 1\n",
    "        return states\n",
    "\n",
    "    @staticmethod\n",
    "    def create_freq_dict(states: dict, message: str) -> dict:\n",
    "        freq_dict = {}\n",
    "        total = len(message)\n",
    "        for char, count in states.items():\n",
    "            freq_dict[char] = Fraction(count, total)\n",
    "        return freq_dict\n",
    "\n",
    "    @staticmethod\n",
    "    def create_left_borders_dict(freq_dict: dict) -> dict:\n",
    "        left_borders_dict = {}\n",
    "        sum_fraction = Fraction(0, 1)\n",
    "        for char, freq in freq_dict.items():\n",
    "            left_borders_dict[char] = sum_fraction\n",
    "            sum_fraction += freq\n",
    "        return left_borders_dict\n",
    "\n",
    "    def __init__(self, message):\n",
    "        self.states = self.create_dict(message)\n",
    "        self.freq_states = self.create_freq_dict(self.states, message)\n",
    "        self.left_borders_dict = self.create_left_borders_dict(self.freq_states)\n",
    "\n",
    "\n",
    "class ArithmeticEncode:\n",
    "    def __init__(self, message: str):\n",
    "        self.message = message\n",
    "        self.left = Fraction(0, 1)\n",
    "        self.right = Fraction(1, 1)\n",
    "        self.source_states = SourceStates(self.message)\n",
    "\n",
    "    def encode(self) -> Fraction:\n",
    "        for char in self.message:\n",
    "            left_border = self.source_states.left_borders_dict[char]\n",
    "            right_border = left_border + self.source_states.freq_states[char]\n",
    "            current_range = self.right - self.left\n",
    "            self.right = self.left + current_range * right_border\n",
    "            self.left = self.left + current_range * left_border\n",
    "\n",
    "        return (self.left + self.right) / 2\n",
    "\n",
    "class ArithmeticDecode:\n",
    "    def __init__(self, coded_val: Fraction, source_states: SourceStates, stop_symbol: str):\n",
    "        self.stop_symbol = stop_symbol\n",
    "        self.coded_val = coded_val\n",
    "        self.source_states = source_states\n",
    "        self.right = Fraction(1, 1)\n",
    "        self.left = Fraction(0, 1)\n",
    "\n",
    "    def decode(self) -> str:\n",
    "        decoded_message = ''\n",
    "        left_borders = self.source_states.left_borders_dict\n",
    "        freq_dict = self.source_states.freq_states\n",
    "        found_stop_symbol = False\n",
    "        while not found_stop_symbol:\n",
    "            current_range = self.right - self.left\n",
    "            if current_range == 0:\n",
    "                break\n",
    "            scaled_value = (self.coded_val - self.left) / current_range\n",
    "            for char, add_left_freq in left_borders.items():\n",
    "                add_right_freq = add_left_freq + freq_dict[char]\n",
    "                if add_left_freq <= scaled_value < add_right_freq:\n",
    "                    if char == self.stop_symbol:\n",
    "                        found_stop_symbol = True\n",
    "                        break\n",
    "                    decoded_message += char\n",
    "                    self.right = self.left + current_range * add_right_freq\n",
    "                    self.left = self.left + current_range * add_left_freq\n",
    "        return decoded_message\n",
    "\n",
    "code = ArithmeticEncode(text_to_code)\n",
    "encoded_value = code.encode()\n",
    "decode = ArithmeticDecode(encoded_value, SourceStates(text_to_code), \"*\")\n",
    "print(f\"Frequencies: {code.source_states.freq_states}\")\n",
    "print(f\"Encoded: {encoded_value}\")\n",
    "print(f\"Decoded: {decode.decode()}\")"
   ]
  },
  {
   "cell_type": "code",
   "execution_count": 3,
   "id": "18a5f59f37bf8717",
   "metadata": {
    "ExecuteTime": {
     "end_time": "2024-12-07T11:50:34.725134Z",
     "start_time": "2024-12-07T11:50:34.710174Z"
    },
    "collapsed": false,
    "jupyter": {
     "outputs_hidden": false
    }
   },
   "outputs": [
    {
     "name": "stdout",
     "output_type": "stream",
     "text": [
      "The Zen of Python, by Tim Peters.\n",
      "Beautiful is better than ugly.\n",
      "Explicit is better than implicit.\n",
      "Simple is better than complex.\n",
      "Complex is better than complicated.\n",
      "Flat is better than nested.\n",
      "Sparse is better than dense.\n",
      "Readability counts.\n",
      "Special cases aren't special enough to break the rules.\n",
      "Although practicality beats purity.\n",
      "Errors should never pass silently.\n",
      "Unless explicitly silenced.\n",
      "In the face of ambiguity, refuse the temptation to guess.\n",
      "There should be one and preferably only one obvious way to do it.\n",
      "Although that way may not be obvious at first unless you're Dutch.\n",
      "Now is better than never.\n",
      "Although never is often better than *right* now.\n",
      "If the implementation is hard to explain, it's a bad idea.\n",
      "If the implementation is easy to explain, it may be a good idea.\n",
      "Namespaces are one honking great idea let's do more of those!*\n",
      "Characters' codes: {'b': '00000', 'u': '00001', 'n': '0001', 'p': '00100', 'v': '0010100', 'x': '0010101', 'g': '001011', 's': '0011', 'e': '010', 'o': '0110', 'a': '0111', 'i': '1000', 'f': '100100', 'I': '10010100', 'A': '10010101', 'S': '10010110', 'T': '10010111', 'h': '10011', ' ': '101', '*': '11000000', ',': '11000001', 'E': '110000100', 'N': '110000101', 'B': '1100001100', 'U': '1100001101', 'R': '1100001110', 'F': '1100001111', \"'\": '11000100', 'C': '1100010100', '!': '1100010101', 'Z': '1100010110', 'D': '1100010111', 'P': '110001100', 'k': '110001101', 'w': '11000111', 'r': '11001', 'd': '110100', 'm': '110101', 'l': '11011', 'c': '111000', 'y': '111001', '.': '111010', '\\n': '111011', 't': '1111'}\n",
      "Encoded: 100101111001101010111000101100100001101011010010010111000110011100111111001101100001110000011010000011100110110010111100011010110111000110001011110101100100111110101110111100001100010011100001111110001001000000111011101100000111010000001011111111010110011011111100110111000110100001001011110111110011110101110111100001000010101001001101110001110001000111110110000011101000000101111111101011001101111110011011100011011000110101001001101110001110001000111111101011101110010110100011010100100110110101011000001110100000010111111110101100110111111001101110001101111000011011010100100110110100010101111010111011110001010001101101010010011011010001010110110000011101000000101111111101011001101111110011011100011011110000110110101001001101110001110000111111101011010011101011101111000011111101101111111101100000111010000001011111111010110011011111100110111000110100010100011111101011010011101011101110010110001000111110010011010101100000111010000001011111111010110011011111100110111000110111010001000010011010111010111011110000111001001111101000111000001000110111000111111100110111100001100000100011111001111101011101110010110001000101110001000011111011101111000011100110100011101011111001010000111000100111110100110010001011100010000111110111010100001011000001001011100111011111011010100000110010100111110001101101111110011010101110010000111011010001111101011101110010101110111111100110110000010010111001110100100110010111111000111110001110000111110111000111111100110100000010011111110011101001000000111001100011111110011110101110111100001001100111001011011001001110100111001101100000111011110100101000101000101000101100110100100011100110011101001110001101101000011111110111110011110101110111100001101000111011010001100111010100010101001001101110001110001000111111011111001101001110001101101000011110000101101001110101110111001010000011011111100110101011001000111111000010101011010010010101111101010000010000010110000110001111111001110000011011100101010010000001001101010111111001101010111110101101010010011110111111110000110000110111110110101001011000010100011001111101011101110010111100110101100101010100111001101100000111011110100101000000101010110000101010101110001110100101001001100101010010001011001011100000110111110011010110000111011111001101011000010101010110000000010100100001100000100111011100011101111110011011111011010111010001101011000111111101011101110010101110111111100110110000010010111001110111111001101111111101110001110111111001101110101011111100110100010110111110100000010101011000000001010010000110000010011101011111111011001001000110010011111110100001000111011010001100111011110010110000011100010011001010101110001011100001111111100010011111010111011110000101011011000111101100000111010000001011111111010110011011111100110111000110100010100010100010110011110101110111001010111011111110011011000001001011100111010001010001010001011001101100000111010110100100111101000011010000001011111111010110011011111100110111000110111000000110011000001011100111111110000001010001011011000111111010111011100101001001001011111100110101011000110101001001101101011010101000011111011111111000011000011011000001110110011011111001110100101111101101010100010101001001101101111000000111000001101100011111100010000111010111101000000111110100101100011010001001111110101110111001010010010010111111001101010110001101010010011011010110101010000111110111111110000110000110110000011101010011100111110011011111011010101000101010010011011011110000001110000011011000111110111010101111110011010000001010101111010010110110011011010010110001101000100111111010111011110000101011111010101000110010001111110000100011101011111001010101011000010101011001101100001110001101100000010010111010010111100101001111111101100011010001001111011101101011111100010000111011101000110101110101011011001010101011010010010111111001101100011010110001010111000000\n",
      "Decoded: The Zen of Python, by Tim Peters.\n",
      "Beautiful is better than ugly.\n",
      "Explicit is better than implicit.\n",
      "Simple is better than complex.\n",
      "Complex is better than complicated.\n",
      "Flat is better than nested.\n",
      "Sparse is better than dense.\n",
      "Readability counts.\n",
      "Special cases aren't special enough to break the rules.\n",
      "Although practicality beats purity.\n",
      "Errors should never pass silently.\n",
      "Unless explicitly silenced.\n",
      "In the face of ambiguity, refuse the temptation to guess.\n",
      "There should be one and preferably only one obvious way to do it.\n",
      "Although that way may not be obvious at first unless you're Dutch.\n",
      "Now is better than never.\n",
      "Although never is often better than *right* now.\n",
      "If the implementation is hard to explain, it's a bad idea.\n",
      "If the implementation is easy to explain, it may be a good idea.\n",
      "Namespaces are one honking great idea let's do more of those!*\n"
     ]
    }
   ],
   "source": [
    "import heapq\n",
    "from collections import Counter\n",
    "\n",
    "class Node:\n",
    "\n",
    "    def __init__(self, char: str, freq: float):\n",
    "        self.char = char\n",
    "        self.freq = freq\n",
    "        self.left = None\n",
    "        self.right = None\n",
    "\n",
    "    def __lt__(self, other):\n",
    "        return self.freq < other.freq\n",
    "\n",
    "def build_huffman_tree(frequencies: dict) -> Node:\n",
    "    heap = [Node(char, freq) for char, freq in frequencies.items()]\n",
    "    heapq.heapify(heap)\n",
    "\n",
    "    while len(heap) > 1:\n",
    "        node1 = heapq.heappop(heap)\n",
    "        node2 = heapq.heappop(heap)\n",
    "        merged = Node(None, node1.freq + node2.freq)\n",
    "        merged.left = node1\n",
    "        merged.right = node2\n",
    "        heapq.heappush(heap, merged)\n",
    "    return heap[0]\n",
    "\n",
    "def generate_huffman_codes(node, prefix: str='', huffman_codes: dict = {}) -> dict:\n",
    "    if node is None:\n",
    "        return\n",
    "    if node.char is not None:\n",
    "        huffman_codes[node.char] = prefix\n",
    "    else:\n",
    "        generate_huffman_codes(node.left, prefix + '0', huffman_codes)\n",
    "        generate_huffman_codes(node.right, prefix + '1', huffman_codes)\n",
    "    return huffman_codes\n",
    "\n",
    "def huffman_encoding(message: str) -> tuple:\n",
    "    frequencies = Counter(message)\n",
    "    root = build_huffman_tree(frequencies)\n",
    "    huffman_codes = generate_huffman_codes(root)\n",
    "    encoded_text = ''.join([huffman_codes[char] for char in message])\n",
    "    return encoded_text, huffman_codes\n",
    "\n",
    "def huffman_decoding(encoded_text: str, huffman_codes: dict) -> str:\n",
    "    reverse_huffman_codes = {code: char for char, code in huffman_codes.items()}\n",
    "    decoded_message = \"\"\n",
    "    current_code = \"\"\n",
    "    for bit in encoded_text:\n",
    "        current_code += bit\n",
    "        if current_code in reverse_huffman_codes:\n",
    "            decoded_message += reverse_huffman_codes[current_code]\n",
    "            current_code = \"\"\n",
    "    return decoded_message\n",
    "\n",
    "message = text_to_code\n",
    "encoded_text, huffman_codes = huffman_encoding(message)\n",
    "decoded_text = huffman_decoding(encoded_text, huffman_codes)\n",
    "print(f\"{message}\")\n",
    "print(f\"Characters' codes: {huffman_codes}\")\n",
    "print(f\"Encoded: {encoded_text}\")\n",
    "print(f\"Decoded: {decoded_text}\")"
   ]
  },
  {
   "cell_type": "code",
   "execution_count": 4,
   "id": "848e1bc6c6095797",
   "metadata": {
    "ExecuteTime": {
     "end_time": "2024-12-07T11:57:26.828573Z",
     "start_time": "2024-12-07T11:57:26.815753Z"
    },
    "collapsed": false,
    "jupyter": {
     "outputs_hidden": false
    }
   },
   "outputs": [],
   "source": [
    "class Base64:\n",
    "    @staticmethod\n",
    "    def char_to_binary(char: str) -> str:\n",
    "        return ''.join(format(ord(char), '08b'))\n",
    "    @staticmethod\n",
    "    def split_string_by_chunks(s: str, n: int) -> list:\n",
    "        return [s[i:i + n] for i in range(0, len(s), n)]\n",
    "    \n",
    "    base64chars = \"ABCDEFGHIJKLMNOPQRSTUVWXYZabcdefghijklmnopqrstuvwxyz0123456789+/\"\n",
    "    code_to_base64char = {format(i, '06b'): char for i, char in enumerate(base64chars)}\n",
    "    @staticmethod\n",
    "    def base64char_to_code(char: str) -> str:\n",
    "        if char == \"=\":\n",
    "            return \"\"\n",
    "        base64char_to_code = {code: char for char, code in Base64.code_to_base64char.items()}\n",
    "        return base64char_to_code[char]\n",
    "    \n",
    "\n"
   ]
  },
  {
   "cell_type": "code",
   "execution_count": 5,
   "id": "393565c6bd2d5627",
   "metadata": {
    "ExecuteTime": {
     "end_time": "2024-12-07T11:57:28.244699Z",
     "start_time": "2024-12-07T11:57:28.234701Z"
    },
    "collapsed": false,
    "jupyter": {
     "outputs_hidden": false
    }
   },
   "outputs": [],
   "source": [
    "class Base64Encoder(Base64):\n",
    "    @staticmethod\n",
    "    def data_to_utf8_stream(data: str) -> str:\n",
    "        stream = \"\"\n",
    "        for char in data:\n",
    "            stream += Base64Encoder.char_to_binary(char)\n",
    "        return stream\n",
    "    @staticmethod\n",
    "    def stream_to_base64(stream: str) -> str:\n",
    "        stream_chunks = Base64Encoder.split_string_by_chunks(stream, 6)\n",
    "        while len(stream_chunks[len(stream_chunks) - 1]) < 6:\n",
    "            stream_chunks[len(stream_chunks) - 1] += '0'\n",
    "        base64_stream = \"\"\n",
    "        for code in stream_chunks:\n",
    "            base64_stream += Base64Encoder.code_to_base64char[code]\n",
    "        return base64_stream\n",
    "    def __init__(self, data: str):\n",
    "        self.data = data\n",
    "    def encode(self) -> str:\n",
    "        stream = Base64Encoder.data_to_utf8_stream(self.data)\n",
    "        base64_string = Base64Encoder.stream_to_base64(stream)\n",
    "        while len(base64_string) % 4 != 0:\n",
    "            base64_string += \"=\"\n",
    "        return base64_string\n"
   ]
  },
  {
   "cell_type": "code",
   "execution_count": 6,
   "id": "96a332d63253a81e",
   "metadata": {
    "ExecuteTime": {
     "end_time": "2024-12-07T11:57:28.712481Z",
     "start_time": "2024-12-07T11:57:28.700514Z"
    },
    "collapsed": false,
    "jupyter": {
     "outputs_hidden": false
    }
   },
   "outputs": [],
   "source": [
    "class Base64Decoder(Base64):\n",
    "    @staticmethod\n",
    "    def base64_to_base64_stream(data: str) -> str:\n",
    "        base64_stream = \"\"\n",
    "        for char in data:\n",
    "            coded_char = Base64Decoder.base64char_to_code(char)\n",
    "            base64_stream = base64_stream + coded_char\n",
    "        return base64_stream\n",
    "    @staticmethod\n",
    "    def b64stream_to_utf8(data: str) -> str:\n",
    "        base64_stream_chunks = Base64Decoder.split_string_by_chunks(data, 8)\n",
    "        utf8_string = \"\"\n",
    "        for code in base64_stream_chunks:\n",
    "            decimal_value = int(code, 2)\n",
    "            utf8_string += chr(decimal_value)\n",
    "        return utf8_string\n",
    "    def __init__(self, data: str):\n",
    "        self.data = data\n",
    "    def decode(self) -> str:\n",
    "        b64_stream = Base64Decoder.base64_to_base64_stream(self.data)\n",
    "        utf8_string = Base64Decoder.b64stream_to_utf8(b64_stream)\n",
    "        return utf8_string\n",
    "        "
   ]
  },
  {
   "cell_type": "code",
   "execution_count": 7,
   "id": "fda8c3ba04caac98",
   "metadata": {
    "ExecuteTime": {
     "end_time": "2024-12-07T11:57:29.597237Z",
     "start_time": "2024-12-07T11:57:29.586266Z"
    },
    "collapsed": false,
    "jupyter": {
     "outputs_hidden": false
    }
   },
   "outputs": [
    {
     "name": "stdout",
     "output_type": "stream",
     "text": [
      "Encoded: VGhlIFplbiBvZiBQeXRob24sIGJ5IFRpbSBQZXRlcnMuCkJlYXV0aWZ1bCBpcyBiZXR0ZXIgdGhhbiB1Z2x5LgpFeHBsaWNpdCBpcyBiZXR0ZXIgdGhhbiBpbXBsaWNpdC4KU2ltcGxlIGlzIGJldHRlciB0aGFuIGNvbXBsZXguCkNvbXBsZXggaXMgYmV0dGVyIHRoYW4gY29tcGxpY2F0ZWQuCkZsYXQgaXMgYmV0dGVyIHRoYW4gbmVzdGVkLgpTcGFyc2UgaXMgYmV0dGVyIHRoYW4gZGVuc2UuClJlYWRhYmlsaXR5IGNvdW50cy4KU3BlY2lhbCBjYXNlcyBhcmVuJ3Qgc3BlY2lhbCBlbm91Z2ggdG8gYnJlYWsgdGhlIHJ1bGVzLgpBbHRob3VnaCBwcmFjdGljYWxpdHkgYmVhdHMgcHVyaXR5LgpFcnJvcnMgc2hvdWxkIG5ldmVyIHBhc3Mgc2lsZW50bHkuClVubGVzcyBleHBsaWNpdGx5IHNpbGVuY2VkLgpJbiB0aGUgZmFjZSBvZiBhbWJpZ3VpdHksIHJlZnVzZSB0aGUgdGVtcHRhdGlvbiB0byBndWVzcy4KVGhlcmUgc2hvdWxkIGJlIG9uZSBhbmQgcHJlZmVyYWJseSBvbmx5IG9uZSBvYnZpb3VzIHdheSB0byBkbyBpdC4KQWx0aG91Z2ggdGhhdCB3YXkgbWF5IG5vdCBiZSBvYnZpb3VzIGF0IGZpcnN0IHVubGVzcyB5b3UncmUgRHV0Y2guCk5vdyBpcyBiZXR0ZXIgdGhhbiBuZXZlci4KQWx0aG91Z2ggbmV2ZXIgaXMgb2Z0ZW4gYmV0dGVyIHRoYW4gKnJpZ2h0KiBub3cuCklmIHRoZSBpbXBsZW1lbnRhdGlvbiBpcyBoYXJkIHRvIGV4cGxhaW4sIGl0J3MgYSBiYWQgaWRlYS4KSWYgdGhlIGltcGxlbWVudGF0aW9uIGlzIGVhc3kgdG8gZXhwbGFpbiwgaXQgbWF5IGJlIGEgZ29vZCBpZGVhLgpOYW1lc3BhY2VzIGFyZSBvbmUgaG9ua2luZyBncmVhdCBpZGVhIGxldCdzIGRvIG1vcmUgb2YgdGhvc2UhKg==\n"
     ]
    }
   ],
   "source": [
    "encoder = Base64Encoder(text_to_code)\n",
    "encoded_string = encoder.encode()\n",
    "print(f\"Encoded: {encoded_string}\")"
   ]
  },
  {
   "cell_type": "code",
   "execution_count": 8,
   "id": "9d95a4d119c42727",
   "metadata": {
    "ExecuteTime": {
     "end_time": "2024-12-07T11:57:30.224333Z",
     "start_time": "2024-12-07T11:57:30.214360Z"
    },
    "collapsed": false,
    "jupyter": {
     "outputs_hidden": false
    }
   },
   "outputs": [
    {
     "name": "stdout",
     "output_type": "stream",
     "text": [
      "Decoded: The Zen of Python, by Tim Peters.\n",
      "Beautiful is better than ugly.\n",
      "Explicit is better than implicit.\n",
      "Simple is better than complex.\n",
      "Complex is better than complicated.\n",
      "Flat is better than nested.\n",
      "Sparse is better than dense.\n",
      "Readability counts.\n",
      "Special cases aren't special enough to break the rules.\n",
      "Although practicality beats purity.\n",
      "Errors should never pass silently.\n",
      "Unless explicitly silenced.\n",
      "In the face of ambiguity, refuse the temptation to guess.\n",
      "There should be one and preferably only one obvious way to do it.\n",
      "Although that way may not be obvious at first unless you're Dutch.\n",
      "Now is better than never.\n",
      "Although never is often better than *right* now.\n",
      "If the implementation is hard to explain, it's a bad idea.\n",
      "If the implementation is easy to explain, it may be a good idea.\n",
      "Namespaces are one honking great idea let's do more of those!*\u0000\n"
     ]
    }
   ],
   "source": [
    "decoder = Base64Decoder(encoded_string)\n",
    "decoded_string = decoder.decode()\n",
    "print(f\"Decoded: {decoded_string}\")"
   ]
  },
  {
   "cell_type": "code",
   "execution_count": null,
   "id": "23414c3b6630889",
   "metadata": {},
   "outputs": [],
   "source": []
  }
 ],
 "metadata": {
  "kernelspec": {
   "display_name": "Python [conda env:base] *",
   "language": "python",
   "name": "conda-base-py"
  },
  "language_info": {
   "codemirror_mode": {
    "name": "ipython",
    "version": 3
   },
   "file_extension": ".py",
   "mimetype": "text/x-python",
   "name": "python",
   "nbconvert_exporter": "python",
   "pygments_lexer": "ipython3",
   "version": "3.12.7"
  }
 },
 "nbformat": 4,
 "nbformat_minor": 5
}
